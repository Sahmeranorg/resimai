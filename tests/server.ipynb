{
  "nbformat": 4,
  "nbformat_minor": 0,
  "metadata": {
    "colab": {
      "provenance": [],
      "collapsed_sections": [
        "stFI55Sj6ydU",
        "UhaxBpvt64Co",
        "a9Rxn8KJCWcm",
        "y1iaTDgF7Bay",
        "YEyTlwJLJK7F",
        "15YrptUgQyn9",
        "D6yL3khwSVmt",
        "RA1v-BY-SZyT"
      ],
      "include_colab_link": true
    },
    "kernelspec": {
      "name": "python3",
      "display_name": "Python 3"
    },
    "language_info": {
      "name": "python"
    },
    "accelerator": "GPU",
    "gpuClass": "standard"
  },
  "cells": [
    {
      "cell_type": "markdown",
      "metadata": {
        "id": "view-in-github",
        "colab_type": "text"
      },
      "source": [
        "<a href=\"https://colab.research.google.com/github/carefree0910/carefree-creator/blob/dev/tests/server.ipynb\" target=\"_parent\"><img src=\"https://colab.research.google.com/assets/colab-badge.svg\" alt=\"Open In Colab\"/></a>"
      ]
    },
    {
      "cell_type": "markdown",
      "source": [
        "# Welcome to `carefree-creator`!\n",
        "\n",
        "Many thanks to [@Explosion-Scratch](https://github.com/Explosion-Scratch), who raised an [issue](https://github.com/carefree0910/carefree-creator/issues/4) and provided a [startup Colab](https://colab.research.google.com/drive/1JbmQhUloM14aK713ypV2JRdZmV-Fs9le?usp=sharing) for me to complete this guide. 🥳\n",
        "\n",
        "Here's what you need to do to launch a Colab server for our [WebUI](https://creator.nolibox.com/guest):\n",
        "1. Run the entire `Setup` block, then wait for a couple of minutes.\n",
        "  - We'll ask you to mount the Google Drive in case you want to use your own models. So if you just want to enjoy the existing models, you can safely reject the mounting! 😉\n",
        "2. Get a free `ngrok` authtoken, modify the `Setup ngrok` cell and run it.\n",
        "  - You can visit [here](https://dashboard.ngrok.com/get-started/your-authtoken) to get a free `ngrok` authtoken.\n",
        "  - If you haven't registered yet, follow the register steps and then visit the above link.\n",
        "3. Run the last `Launch ...` cell (it will print out the url we need later on), then wait for another couple of minutes, until something like `Uvicorn running on http://0.0.0.0:8123` poped out.\n",
        "4. Turn on the `Use Local Server` switch (as shown [here](https://github.com/carefree0910/carefree-creator#webui--local-deployment)), then paste the url printed out at Step `3.` to the `Server Host` field in the [WebUI](https://creator.nolibox.com/guest)."
      ],
      "metadata": {
        "id": "MtLkX4umm5L8"
      }
    },
    {
      "cell_type": "markdown",
      "source": [
        "# Setup"
      ],
      "metadata": {
        "id": "-jwOeZafnFQR"
      }
    },
    {
      "cell_type": "code",
      "source": [
        "from IPython.utils import capture\n",
        "from IPython.display import clear_output\n",
        "\n",
        "from google.colab import drive\n",
        "drive.mount('/content/gdrive')"
      ],
      "metadata": {
        "id": "WIzCoP18nHTo"
      },
      "execution_count": null,
      "outputs": []
    },
    {
      "cell_type": "markdown",
      "source": [
        "## Install `ngrok`"
      ],
      "metadata": {
        "id": "JwtpeyvMnN9X"
      }
    },
    {
      "cell_type": "code",
      "source": [
        "with capture.capture_output():\n",
        "  !curl -s https://ngrok-agent.s3.amazonaws.com/ngrok.asc | sudo tee /etc/apt/trusted.gpg.d/ngrok.asc >/dev/null && echo \"deb https://ngrok-agent.s3.amazonaws.com buster main\" | sudo tee /etc/apt/sources.list.d/ngrok.list && sudo apt update && sudo apt install ngrok\n",
        "  clear_output()"
      ],
      "metadata": {
        "id": "WYLDlqa9jwBV"
      },
      "execution_count": null,
      "outputs": []
    },
    {
      "cell_type": "markdown",
      "source": [
        "## Install `carefree-creator`"
      ],
      "metadata": {
        "id": "hikDvG0jnQY4"
      }
    },
    {
      "cell_type": "code",
      "source": [
        "with capture.capture_output():\n",
        "  !python3 -m pip install carefree-creator\n",
        "  clear_output()"
      ],
      "metadata": {
        "id": "3Ow0RGwqi_yI"
      },
      "execution_count": null,
      "outputs": []
    },
    {
      "cell_type": "markdown",
      "source": [
        "## Install `PyTorch`"
      ],
      "metadata": {
        "id": "FTtHWUDtnT8k"
      }
    },
    {
      "cell_type": "code",
      "source": [
        "with capture.capture_output():\n",
        "  !python3 -m pip install torch torchvision torchaudio --extra-index-url https://download.pytorch.org/whl/cu118\n",
        "  clear_output()"
      ],
      "metadata": {
        "id": "ocvJfLlT442_"
      },
      "execution_count": null,
      "outputs": []
    },
    {
      "cell_type": "markdown",
      "source": [
        "## Install suitable `xformers`"
      ],
      "metadata": {
        "id": "Dd5K6LYZ_UkZ"
      }
    },
    {
      "cell_type": "code",
      "source": [
        "with capture.capture_output():\n",
        "  !python3 -m pip install -U xformers --index-url https://download.pytorch.org/whl/cu118\n",
        "  clear_output()"
      ],
      "metadata": {
        "id": "Y2UxlhkH_Y0r"
      },
      "execution_count": null,
      "outputs": []
    },
    {
      "cell_type": "markdown",
      "source": [
        "## Install `pyngrok`"
      ],
      "metadata": {
        "id": "VV2Em5Rxnefu"
      }
    },
    {
      "cell_type": "code",
      "source": [
        "with capture.capture_output():\n",
        "  !python3 -m pip install pyngrok\n",
        "  clear_output()"
      ],
      "metadata": {
        "id": "9Gcp4hKOnqYu"
      },
      "execution_count": null,
      "outputs": []
    },
    {
      "cell_type": "markdown",
      "source": [
        "# Setup `ngrok`\n",
        "\n",
        "> - You can visit [here](https://dashboard.ngrok.com/get-started/your-authtoken) to get a free `ngrok` authtoken.\n",
        ">\n",
        "> - If you haven't registered yet, follow the register steps and then visit the above link."
      ],
      "metadata": {
        "id": "9CfFI1eSnZr_"
      }
    },
    {
      "cell_type": "code",
      "source": [
        "!ngrok authtoken PASTE_YOUR_NGROK_AUTH_HERE"
      ],
      "metadata": {
        "id": "hTrXjsydXSTL"
      },
      "execution_count": null,
      "outputs": []
    },
    {
      "cell_type": "markdown",
      "source": [
        "# Lauch `carefree-creator` server\n",
        "\n",
        "> - The first time you launch this will cost much more time because we need to download the models.\n",
        "> - Then wait for another couple of minutes (because we need to load a bunch of models), until something like `> Server is ready!` is printed."
      ],
      "metadata": {
        "id": "tBEq2atIoGXj"
      }
    },
    {
      "cell_type": "code",
      "source": [
        "!python3 -c \"import os; from pyngrok import ngrok; print('\\nPaste the following url to the WebUI:', ngrok.connect(8123, bind_tls=True).public_url, '\\n'); os.system('cfcreator serve --limit 1 --focus sd.base')\""
      ],
      "metadata": {
        "id": "vebcqNfJc98L"
      },
      "execution_count": null,
      "outputs": []
    }
  ]
}