{
  "cells": [
    {
      "cell_type": "markdown",
      "metadata": {
        "id": "view-in-github",
        "colab_type": "text"
      },
      "source": [
        "<a href=\"https://colab.research.google.com/github/carefree0910/carefree-creator/blob/dev/tests/server_zh.ipynb\" target=\"_parent\"><img src=\"https://colab.research.google.com/assets/colab-badge.svg\" alt=\"Open In Colab\"/></a>"
      ]
    },
    {
      "cell_type": "markdown",
      "metadata": {
        "id": "MtLkX4umm5L8"
      },
      "source": [
        "# 欢迎来到 `carefree-creator`!\n",
        "\n",
        "非常感谢 [@Explosion-Scratch](https://github.com/Explosion-Scratch), 本指南的诞生得益于 ta 的帮助与支持 🥳\n",
        "\n",
        "我会在接下来给出每一步要做的事情，只要跟着走，应该就不会有大问题！"
      ]
    },
    {
      "cell_type": "markdown",
      "metadata": {
        "id": "-jwOeZafnFQR"
      },
      "source": [
        "# 准备工作\n",
        "\n",
        "为了使用该 colab，需要手动操作的仅有一个——那就是获取您 `ngrok` 账号的 `Authtoken`：\n",
        "1. 首先，需要访问[这里](https://dashboard.ngrok.com/get-started/your-authtoken)来获得您一个叫 `Authtoken` 的东西\n",
        "  - 如果您尚未注册过这个网站，则需要按照它的引导进行注册（免费且快捷！），然后再访问[这个链接](https://dashboard.ngrok.com/get-started/your-authtoken)\n",
        "\n",
        "2. 在成功访问后，您应该会看到这么一个界面：\n",
        "\n",
        "![ngrok authtoken](https://github.com/carefree0910/datasets/releases/download/static/ngrok_auth.png)\n",
        "\n",
        "您可以直接复制我涂了红色方块部分的文本，或者点击右边的 `Copy` 按钮，来复制您的 `Authtoken`。然后，在下面单元的 `%env AUTHTOKEN=` 后面，把您的这个 `Authtoken` 粘贴进去："
      ]
    },
    {
      "cell_type": "code",
      "source": [
        "%env AUTHTOKEN="
      ],
      "metadata": {
        "id": "MySyA6zUPu4n"
      },
      "execution_count": null,
      "outputs": []
    },
    {
      "cell_type": "markdown",
      "source": [
        "粘贴完后，您只需要点击页面上方的「代码执行程序」菜单，并点击里面的「全部运行」：\n",
        "\n",
        "![run all](https://github.com/carefree0910/datasets/releases/download/static/colab_run_all.png)\n",
        "\n",
        "页面会询问您是否允许访问您的 Google Drive，如果您不需要使用自己的模型之类的，即使不允许也没有关系 😉\n",
        "\n",
        "之后，滚动到页面底部的单元，并跟着我在那里写的说明走即可！"
      ],
      "metadata": {
        "id": "VZJ-3o2uf-l_"
      }
    },
    {
      "cell_type": "code",
      "source": [
        "from IPython.utils import capture\n",
        "from IPython.display import clear_output\n",
        "\n",
        "from google.colab import drive\n",
        "drive.mount('/content/gdrive')"
      ],
      "metadata": {
        "id": "JdQ2MHIYAUt3"
      },
      "execution_count": null,
      "outputs": []
    },
    {
      "cell_type": "code",
      "execution_count": null,
      "metadata": {
        "id": "WYLDlqa9jwBV"
      },
      "outputs": [],
      "source": [
        "with capture.capture_output():\n",
        "  !curl -s https://ngrok-agent.s3.amazonaws.com/ngrok.asc | sudo tee /etc/apt/trusted.gpg.d/ngrok.asc >/dev/null && echo \"deb https://ngrok-agent.s3.amazonaws.com buster main\" | sudo tee /etc/apt/sources.list.d/ngrok.list && sudo apt update && sudo apt install ngrok\n",
        "  clear_output()"
      ]
    },
    {
      "cell_type": "code",
      "execution_count": null,
      "metadata": {
        "id": "3Ow0RGwqi_yI"
      },
      "outputs": [],
      "source": [
        "with capture.capture_output():\n",
        "  !python3 -m pip install carefree-creator\n",
        "  clear_output()"
      ]
    },
    {
      "cell_type": "code",
      "execution_count": null,
      "metadata": {
        "id": "ocvJfLlT442_"
      },
      "outputs": [],
      "source": [
        "with capture.capture_output():\n",
        "  !python3 -m pip install torch torchvision torchaudio --extra-index-url https://download.pytorch.org/whl/cu118\n",
        "  !python3 -m pip install -U xformers --index-url https://download.pytorch.org/whl/cu118\n",
        "  !python3 -m pip install pyngrok\n",
        "  clear_output()"
      ]
    },
    {
      "cell_type": "code",
      "execution_count": null,
      "metadata": {
        "id": "hTrXjsydXSTL"
      },
      "outputs": [],
      "source": [
        "!ngrok authtoken $AUTHTOKEN"
      ]
    },
    {
      "cell_type": "code",
      "execution_count": 7,
      "metadata": {
        "id": "vebcqNfJc98L"
      },
      "outputs": [],
      "source": [
        "!python3 -c \"import os; from pyngrok import ngrok; print('\\nPaste the following url to the WebUI:', ngrok.connect(8123, bind_tls=True).public_url, '\\n'); os.system('cfcreator serve --limit 1 --focus sd.base')\""
      ]
    },
    {
      "cell_type": "markdown",
      "source": [
        "# 当您看到这里时，其实已经离胜利很近了！\n",
        "\n",
        "由于全部运行完需要 3~5 min 的时间，所以需要您的耐心等待😆\n",
        "\n",
        "而当上方的单元出现：\n",
        "\n",
        "`> Server is Ready!`\n",
        "\n",
        "的文字后，算法服务就正式部署完成了！此时，您可以将上方单元一开始打印出的\n",
        "\n",
        "`Paste the following url to the WebUI: xxxxxxx`\n",
        "\n",
        "里面的网址（url），复制粘贴到我们产品中下图所示的位置：\n",
        "\n",
        "![paste url](https://github.com/carefree0910/datasets/releases/download/static/paste_ngrok_url.png)\n",
        "\n",
        "在做完所有这些步骤后，您就可以继续使用我们的产品了！只是此时，您不再需要排队，而是会用这里的算力、模型来进行生成！🥳"
      ],
      "metadata": {
        "id": "cUucXOLGgaBp"
      }
    }
  ],
  "metadata": {
    "accelerator": "GPU",
    "colab": {
      "provenance": [],
      "include_colab_link": true
    },
    "gpuClass": "standard",
    "kernelspec": {
      "display_name": "Python 3",
      "name": "python3"
    },
    "language_info": {
      "name": "python"
    }
  },
  "nbformat": 4,
  "nbformat_minor": 0
}